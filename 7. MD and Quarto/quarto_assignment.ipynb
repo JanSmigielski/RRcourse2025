{
  "cells": [
    {
      "cell_type": "raw",
      "metadata": {},
      "source": [
        "---\n",
        "format: html\n",
        "editor: visual\n",
        "---"
      ],
      "id": "19c2714d"
    },
    {
      "cell_type": "markdown",
      "metadata": {},
      "source": [
        "![](quarto_assignment_files/images/Community_2009_logo.png){width=\"300\"}\n",
        "\n",
        "## Description of the show\n",
        "\n",
        "*Community* is an American television sitcom created by Dan Harmon, which originally aired from 2009 to 2015. Set at the fictional Greendale Community College, the series centers on a group of unlikely students who form a study group and, over time, develop complex interpersonal relationships that extend beyond the academic setting. The show is known for its innovative narrative style, frequent use of meta-humor, intertextuality, and genre parody, often deconstructing traditional television tropes.\n",
        "\n",
        "Through its ensemble cast and episodic diversity, *Community* explores themes such as identity, friendship, institutional critique, and the dynamics of group behavior. Its unique blend of absurdist comedy and emotional depth has earned it a dedicated cult following and recognition for pushing the boundaries of the sitcom format. The series has also been the subject of academic interest due to its postmodern storytelling techniques and commentary on media and culture.\n",
        "\n",
        "## Basic Statistics\n"
      ],
      "id": "16c269b2"
    },
    {
      "cell_type": "code",
      "metadata": {},
      "source": [
        "reticulate::use_condaenv(\"base\", required = TRUE)\n",
        "import pandas as pd\n",
        "data = pd.read_csv('quarto_assignment_files/data/viewership.csv')"
      ],
      "id": "c52f1951",
      "execution_count": null,
      "outputs": []
    },
    {
      "cell_type": "markdown",
      "metadata": {},
      "source": [
        "## Graphs\n",
        "\n",
        "## Conclusions"
      ],
      "id": "92e52695"
    }
  ],
  "metadata": {
    "kernelspec": {
      "display_name": "Python 3",
      "language": "python",
      "name": "python3"
    }
  },
  "nbformat": 4,
  "nbformat_minor": 5
}